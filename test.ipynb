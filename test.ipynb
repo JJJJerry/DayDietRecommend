{
 "cells": [
  {
   "cell_type": "code",
   "execution_count": 1,
   "metadata": {},
   "outputs": [
    {
     "name": "stdout",
     "output_type": "stream",
     "text": [
      "Length of corpus: 460\n",
      "Word2Vec model successfully trained !\n",
      "saved in model_cbow.bin\n",
      "Successfully load Word2Vec model!\n",
      "Successfully load TfidfEmbedding model!\n"
     ]
    }
   ],
   "source": [
    "from classhelper import user, family, DayDietRec\n",
    "import pandas as pd\n",
    "import numpy as np\n",
    "rec = DayDietRec('final.csv', 'model_cbow.bin')"
   ]
  },
  {
   "cell_type": "code",
   "execution_count": 29,
   "metadata": {},
   "outputs": [
    {
     "name": "stdout",
     "output_type": "stream",
     "text": [
      "[[0.60366005]]\n"
     ]
    }
   ],
   "source": [
    "from sklearn.metrics.pairwise import cosine_similarity\n",
    "def test():\n",
    "    recipe1=rec.get_ingredient(str(rec.data[rec.data.name=='番茄土豆浓汤面']['parsed']))\n",
    "    emb1=rec.model.transform([recipe1])\n",
    "    recipe2=rec.get_ingredient(str(rec.data[rec.data.name=='土豆炖鸡块']['parsed']))\n",
    "    emb2=rec.model.transform([recipe2])\n",
    "    print(cosine_similarity(emb1,emb2))\n",
    "test()"
   ]
  },
  {
   "cell_type": "code",
   "execution_count": 2,
   "metadata": {},
   "outputs": [
    {
     "name": "stdout",
     "output_type": "stream",
     "text": [
      "(1, 128)\n"
     ]
    }
   ],
   "source": [
    "for i in range(len(rec.data)):\n",
    "    recipe=rec.get_ingredient(rec.data['parsed'][i])\n",
    "    emb=rec.model.transform([recipe])\n",
    "    print(emb.shape)\n",
    "    break"
   ]
  },
  {
   "cell_type": "code",
   "execution_count": 22,
   "metadata": {},
   "outputs": [],
   "source": [
    "test_user1 = user(category=['儿童'])\n",
    "user_list=[test_user1]\n",
    "test_family=family(user_list)"
   ]
  },
  {
   "cell_type": "code",
   "execution_count": 23,
   "metadata": {},
   "outputs": [
    {
     "data": {
      "text/plain": [
       "0.5"
      ]
     },
     "execution_count": 23,
     "metadata": {},
     "output_type": "execute_result"
    }
   ],
   "source": [
    "rec.user_recipe_score(test_user1,0)"
   ]
  },
  {
   "cell_type": "code",
   "execution_count": 27,
   "metadata": {},
   "outputs": [
    {
     "data": {
      "text/plain": [
       "0.875"
      ]
     },
     "execution_count": 27,
     "metadata": {},
     "output_type": "execute_result"
    }
   ],
   "source": [
    "rec.get_category_score(tuple([0,1,2,3]),test_family)"
   ]
  },
  {
   "cell_type": "code",
   "execution_count": 32,
   "metadata": {},
   "outputs": [
    {
     "data": {
      "text/plain": [
       "[7, 4, 5, 8, 6, 9]"
      ]
     },
     "execution_count": 32,
     "metadata": {},
     "output_type": "execute_result"
    }
   ],
   "source": [
    "import random\n",
    "l=[4,5,6,7,8,9]\n",
    "random.shuffle(l)\n",
    "l"
   ]
  },
  {
   "attachments": {},
   "cell_type": "markdown",
   "metadata": {},
   "source": [
    "用户标签：高血脂人群、减肥人群、高血压人群、高血糖人群、儿童"
   ]
  },
  {
   "attachments": {},
   "cell_type": "markdown",
   "metadata": {},
   "source": [
    "用户输入： 推荐菜数、食材、家庭成员标签、家庭成员过敏原"
   ]
  }
 ],
 "metadata": {
  "kernelspec": {
   "display_name": "torch",
   "language": "python",
   "name": "python3"
  },
  "language_info": {
   "codemirror_mode": {
    "name": "ipython",
    "version": 3
   },
   "file_extension": ".py",
   "mimetype": "text/x-python",
   "name": "python",
   "nbconvert_exporter": "python",
   "pygments_lexer": "ipython3",
   "version": "3.7.13"
  },
  "orig_nbformat": 4
 },
 "nbformat": 4,
 "nbformat_minor": 2
}
