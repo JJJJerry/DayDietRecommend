{
 "cells": [
  {
   "cell_type": "code",
   "execution_count": 22,
   "metadata": {},
   "outputs": [
    {
     "data": {
      "text/plain": [
       "tensor([[ 0.8963,  0.0559,  1.1192, -1.5954,  1.1224, -1.9931,  0.1907,  0.8361,\n",
       "          0.5467, -1.1453, -2.0601, -0.1190, -1.0320, -0.7400, -0.0785,  0.9139,\n",
       "          1.5257,  0.1175,  0.2601,  1.8335,  1.5002,  2.9357, -0.3135,  1.5546,\n",
       "         -0.6345,  0.9917, -0.9781,  1.0796, -0.0789,  0.2662,  0.4885,  1.0763,\n",
       "          0.5281,  0.5225, -0.9784, -1.4573, -0.4711,  1.5919, -1.6874, -0.8403,\n",
       "          0.9285, -1.1401,  1.7858,  0.6263,  0.0931, -0.4849,  1.0473,  1.0102,\n",
       "         -1.2043, -1.1656,  0.0785, -1.2349,  2.1460,  0.4609, -0.8146, -0.2024,\n",
       "         -0.2438, -0.3257,  0.4290,  0.4453,  0.8743,  0.1126,  0.6620, -0.0671]],\n",
       "       grad_fn=<EmbeddingBackward0>)"
      ]
     },
     "execution_count": 22,
     "metadata": {},
     "output_type": "execute_result"
    }
   ],
   "source": [
    "import torch\n",
    "user_label=torch.tensor([0],dtype=torch.long)\n",
    "user_emb=torch.nn.Embedding(5,64)\n",
    "user_emb(user_label)"
   ]
  },
  {
   "cell_type": "code",
   "execution_count": 11,
   "metadata": {},
   "outputs": [
    {
     "data": {
      "text/plain": [
       "tensor([[ 1.2632,  0.0822, -0.2786, -0.8591,  1.1829, -0.6288, -1.3667, -0.7359,\n",
       "          1.6283, -0.7824,  0.0457, -1.1484, -0.1239, -0.5019, -1.8768,  0.4935,\n",
       "         -0.1285,  1.1686,  0.3725, -1.1335, -1.0557,  0.7397, -0.2655, -0.4356,\n",
       "          0.4855, -0.7807,  0.1209, -1.5405, -1.1465, -0.1590, -0.2357,  0.2347,\n",
       "          0.5258, -0.8524,  0.4881,  0.9015, -0.6352, -1.0535,  2.1813, -1.3436,\n",
       "          1.2460, -0.5376, -0.0948, -0.1544,  0.2819,  0.2734, -0.8474, -1.0595,\n",
       "          0.8982, -0.0245, -0.9605,  1.7596,  0.0109, -0.6126, -0.5688, -0.6833,\n",
       "         -0.6252, -1.9870,  0.5176, -0.8208, -0.4003,  0.8671, -0.5050, -0.4994],\n",
       "        [-0.2815,  1.5993,  0.9366, -1.1613,  1.2990, -1.4912,  1.2306, -1.7752,\n",
       "         -0.3834, -0.3045, -1.9369,  1.0323, -0.8659, -0.0808,  1.9767,  1.2064,\n",
       "         -1.3468, -0.5866, -0.0023,  1.6303, -0.7666,  0.3173,  1.8220, -0.3435,\n",
       "          0.7542, -1.5753, -1.1189,  0.3136,  0.1396,  1.6543,  0.5181,  0.6847,\n",
       "         -1.0639, -0.6996,  0.4428, -0.0278,  0.1061,  0.0220,  2.0017,  0.0260,\n",
       "          1.1154, -0.4511, -0.3907,  1.1951,  0.7938,  0.6071,  0.7427,  0.1312,\n",
       "          0.2483, -0.6381,  0.3259,  1.4652,  1.2803,  0.9119,  0.5595, -0.6802,\n",
       "         -0.8224, -0.8276, -0.5240, -0.3905, -0.8430,  0.7078,  0.2559,  0.0073]],\n",
       "       grad_fn=<EmbeddingBackward0>)"
      ]
     },
     "execution_count": 11,
     "metadata": {},
     "output_type": "execute_result"
    }
   ],
   "source": [
    "recipe_label=torch.tensor([0,1,459],dtype=torch.long)\n",
    "recipe_emb=torch.nn.Embedding(460,64)\n",
    "recipe_emb(user_label)"
   ]
  },
  {
   "cell_type": "code",
   "execution_count": 131,
   "metadata": {},
   "outputs": [
    {
     "name": "stdout",
     "output_type": "stream",
     "text": [
      "0.222104012966156\n",
      "tensor([[ 0.7007,  0.3696,  0.5564,  0.6203, -0.1227],\n",
      "        [ 0.7215,  0.8254,  0.5628,  0.6911,  0.6717],\n",
      "        [ 0.2703, -0.3149, -0.4678,  0.4421, -0.5484],\n",
      "        ...,\n",
      "        [ 0.7215,  0.8253,  0.5628,  0.6911,  0.6716],\n",
      "        [ 0.7446,  0.7244, -0.3893,  0.5745,  0.6527],\n",
      "        [ 0.2706, -0.3147, -0.4678,  0.4424, -0.5482]], device='cuda:0',\n",
      "       grad_fn=<MmBackward0>)\n"
     ]
    }
   ],
   "source": [
    "import torch\n",
    "import pandas as pd\n",
    "def get_category(s:str):\n",
    "    if s=='无':\n",
    "        return []\n",
    "    temp=s.split(';')\n",
    "    if '' in temp:\n",
    "        temp.remove('')\n",
    "    return temp\n",
    "data=pd.read_csv('final.csv')\n",
    "user_emb=torch.nn.Embedding(5,64).cuda()\n",
    "recipe_emb=torch.nn.Embedding(len(data),64).cuda()\n",
    "opt_recipe=torch.optim.Adam(params=recipe_emb.parameters(),lr=0.01)\n",
    "opt_user=torch.optim.Adam(params=user_emb.parameters(),lr=0.01) \n",
    "ground_true=torch.zeros(size=(len(data),5)).cuda()\n",
    "for i in range(len(data)):\n",
    "    #print(data.at[i,'name'])\n",
    "    less=get_category(data.at[i,'less'])\n",
    "    no=get_category(data.at[i,'no'])  \n",
    "    more=get_category(data.at[i,'more'])  \n",
    "    if '高血脂人群' in less or '高血脂人群' in no:\n",
    "        ground_true[i][0]=-1\n",
    "    else :\n",
    "        ground_true[i][0]=1\n",
    "    if '高血压人群' in less or '高血压人群' in no:\n",
    "        ground_true[i][1]=-1\n",
    "    else :\n",
    "        ground_true[i][1]=1   \n",
    "    if '高血糖人群' in less or '高血糖人群' in no:\n",
    "        ground_true[i][2]=-1\n",
    "    else :\n",
    "        ground_true[i][2]=1 \n",
    "    if '减肥人群' in less or '减肥人群' in no:\n",
    "        ground_true[i][3]=-1\n",
    "    else :\n",
    "        ground_true[i][3]=1      \n",
    "    if '儿童' in less or '儿童' in no:\n",
    "        ground_true[i][4]=-1\n",
    "    else :\n",
    "        ground_true[i][4]=1\n",
    "#print(ground_true)\n",
    "for epoch in range(10000):\n",
    "    recipe=torch.tensor([i for i in range(len(data))],dtype=torch.long).cuda()\n",
    "    recipe=recipe_emb(recipe)\n",
    "    recipe_normed=torch.nn.functional.normalize(recipe)\n",
    "    user=torch.tensor([0,1,2,3,4],dtype=torch.long).cuda()\n",
    "    user=user_emb(user)\n",
    "    user_normed=torch.nn.functional.normalize(user)\n",
    "    \n",
    "    res=torch.mm(recipe_normed,user_normed.T)   \n",
    "    loss_func=torch.nn.MSELoss()\n",
    "    loss=loss_func(res,ground_true)\n",
    "    #print(loss.item())\n",
    "    loss.backward()\n",
    "    #print(user_emb.weight.grad)\n",
    "    opt_recipe.step()\n",
    "    opt_recipe.zero_grad()\n",
    "    opt_user.step()\n",
    "    opt_user.zero_grad()\n",
    "print(loss.item())\n",
    "print(res)"
   ]
  },
  {
   "cell_type": "code",
   "execution_count": 129,
   "metadata": {},
   "outputs": [
    {
     "data": {
      "text/plain": [
       "tensor([ 0.2706, -0.3148, -0.4676,  0.4421, -0.5480], device='cuda:0',\n",
       "       grad_fn=<SumBackward1>)"
      ]
     },
     "execution_count": 129,
     "metadata": {},
     "output_type": "execute_result"
    }
   ],
   "source": [
    "recipe=torch.tensor([2],dtype=torch.long).cuda()\n",
    "recipe=recipe_emb(recipe)\n",
    "recipe_normed=torch.nn.functional.normalize(recipe)\n",
    "user=torch.tensor([0,1,2,3,4],dtype=torch.long).cuda()\n",
    "user=user_emb(user)\n",
    "user=torch.nn.functional.normalize(user)\n",
    "res=torch.mul(recipe_normed,user).sum(axis=1)\n",
    "res"
   ]
  },
  {
   "cell_type": "code",
   "execution_count": 162,
   "metadata": {},
   "outputs": [],
   "source": [
    "torch.save(recipe_emb.state_dict(),'recipe_emb.emb')\n",
    "torch.save(user_emb.state_dict(),'user_emb.emb')"
   ]
  },
  {
   "attachments": {},
   "cell_type": "markdown",
   "metadata": {},
   "source": [
    "看菜谱之间的相似性"
   ]
  },
  {
   "cell_type": "code",
   "execution_count": 153,
   "metadata": {},
   "outputs": [
    {
     "data": {
      "text/plain": [
       "tensor(1., device='cuda:0', grad_fn=<SumBackward0>)"
      ]
     },
     "execution_count": 153,
     "metadata": {},
     "output_type": "execute_result"
    }
   ],
   "source": [
    "v1=recipe_emb(torch.tensor([10],dtype=torch.long).cuda())\n",
    "v2=recipe_emb(torch.tensor([11],dtype=torch.long).cuda())\n",
    "v1=torch.nn.functional.normalize(v1)\n",
    "v2=torch.nn.functional.normalize(v2)\n",
    "torch.mul(v1,v2).sum()"
   ]
  },
  {
   "attachments": {},
   "cell_type": "markdown",
   "metadata": {},
   "source": [
    "加载权重"
   ]
  },
  {
   "cell_type": "code",
   "execution_count": 159,
   "metadata": {},
   "outputs": [
    {
     "data": {
      "text/plain": [
       "tensor([[-0.2021, -0.8387,  0.0320,  ...,  1.4194, -0.7064, -0.5632],\n",
       "        [ 0.7451, -1.2412,  0.9944,  ...,  0.6057,  0.9759, -1.1060],\n",
       "        [-0.6803,  1.6156, -1.2770,  ...,  0.4323, -1.3780,  1.0010],\n",
       "        ...,\n",
       "        [ 0.6402, -1.0662,  0.8539,  ...,  0.5203,  0.8383, -0.9502],\n",
       "        [ 0.8522,  0.9789,  0.9829,  ..., -1.0503,  1.1707, -0.6890],\n",
       "        [-0.4701,  1.1162, -0.8820,  ...,  0.3000, -0.9524,  0.6916]])"
      ]
     },
     "execution_count": 159,
     "metadata": {},
     "output_type": "execute_result"
    }
   ],
   "source": [
    "new_emb=torch.nn.Embedding(460,64)\n",
    "new_emb.load_state_dict(torch.load('recipe_emb.emb'))\n",
    "new_emb.weight.data"
   ]
  },
  {
   "cell_type": "code",
   "execution_count": 175,
   "metadata": {},
   "outputs": [
    {
     "name": "stdout",
     "output_type": "stream",
     "text": [
      "[tensor([ 0.1548,  0.2174,  0.7350,  0.0638,  1.4656, -0.2658,  0.2731,  0.4702,\n",
      "        -0.1132, -0.0445, -0.5553, -0.9214, -0.2566, -0.9001,  1.3749, -0.7419,\n",
      "        -0.6950, -1.3102,  0.0526, -0.8809, -0.8346, -0.8057, -1.0165, -1.0726,\n",
      "        -0.0521, -2.1990,  1.3979, -1.1863,  1.0047, -0.5018, -0.4555,  0.9257,\n",
      "        -0.1985,  1.9617,  0.3995,  1.8863,  0.1302, -1.5533,  0.2180, -0.8187,\n",
      "         0.3585, -0.2220,  1.4450, -0.0971, -1.3361, -0.0231,  1.5804,  1.8479,\n",
      "        -0.8569, -1.4803,  0.3215,  0.6954, -1.5086, -0.2207,  0.4640, -1.6423,\n",
      "        -0.7121,  0.4180, -0.7345, -1.2085, -0.4349,  0.2951,  0.1471, -0.6832],\n",
      "       device='cuda:0', grad_fn=<EmbeddingBackward0>), tensor([ 7.8012e-01, -2.8745e-01,  1.5005e+00, -6.6879e-02,  9.6267e-01,\n",
      "        -6.3299e-01, -1.0989e-01, -9.0523e-01,  1.0431e+00, -2.9850e-01,\n",
      "        -6.8346e-01, -2.7747e-01,  2.1435e-01, -5.4605e-01,  1.6696e+00,\n",
      "        -7.9392e-01,  9.0046e-02, -4.2985e-01, -2.9805e-01, -4.5940e-01,\n",
      "        -1.3815e+00, -1.0595e-01, -1.6443e+00, -6.2066e-01,  1.9924e-01,\n",
      "        -1.4009e+00,  9.6452e-01, -1.2740e+00, -4.7635e-02, -1.2501e+00,\n",
      "        -1.0600e+00,  1.4055e+00, -6.2779e-01,  1.3393e+00,  1.2806e+00,\n",
      "         1.7613e+00,  1.2448e+00, -1.5996e+00, -6.9384e-01, -1.0182e+00,\n",
      "         7.3664e-01,  7.7626e-01,  7.7387e-01,  7.3885e-01, -1.5669e+00,\n",
      "         4.7706e-01,  1.3567e+00,  9.8128e-01,  1.5553e-03, -1.2335e+00,\n",
      "         3.0072e-01,  2.7574e-01, -1.0245e+00, -6.4789e-01,  4.9368e-01,\n",
      "        -1.0561e+00, -1.3907e+00,  7.7441e-01, -6.6314e-01, -1.4670e+00,\n",
      "        -1.4841e-01, -4.1559e-01,  1.1140e+00, -1.3415e+00], device='cuda:0',\n",
      "       grad_fn=<EmbeddingBackward0>), tensor([ 2.6648e-03, -2.3964e+00,  1.1159e-01, -1.8755e+00,  1.7659e-01,\n",
      "        -2.3577e+00, -2.7076e+00, -2.8880e-01,  2.1271e-01, -1.6654e+00,\n",
      "         1.8990e-01, -3.0644e-01,  2.5923e+00, -5.8573e-02,  2.7151e-01,\n",
      "         5.3680e-01,  1.6603e-01, -4.6892e-01, -2.5201e+00, -3.1099e-01,\n",
      "        -5.3256e-02, -8.3225e-01,  2.6889e-01, -1.2610e+00,  2.4050e+00,\n",
      "         2.4505e-01, -5.8659e-02, -1.4497e-01,  4.7509e-02, -5.7903e-01,\n",
      "        -1.8945e-01, -2.3636e-01,  6.8587e-01,  5.1085e-01, -1.1817e-01,\n",
      "        -1.3411e-01, -3.9485e-01, -4.4785e-01, -1.5038e+00, -2.3140e-01,\n",
      "         1.7086e+00, -9.7173e-01,  1.3251e-01,  8.4752e-01, -4.8055e-01,\n",
      "         1.3897e-01, -4.7911e-02, -4.7222e-01,  1.1042e+00,  5.5042e-01,\n",
      "         1.8744e+00, -4.2741e-01, -1.0297e+00, -2.0667e+00, -2.3513e-01,\n",
      "         6.3796e-01, -1.5745e-01,  6.0037e-01, -1.8341e-01,  2.5628e-01,\n",
      "        -4.2138e-03,  1.7411e+00, -7.7762e-02, -5.6065e-01], device='cuda:0',\n",
      "       grad_fn=<EmbeddingBackward0>)]\n",
      "tensor([ 0.3125, -0.8221,  0.7824, -0.6262,  0.8683, -1.0855, -0.8481, -0.2413,\n",
      "         0.3809, -0.6695, -0.3496, -0.5018,  0.8500, -0.5016,  1.1053, -0.3330,\n",
      "        -0.1463, -0.7363, -0.9218, -0.5504, -0.7565, -0.5813, -0.7973, -0.9848,\n",
      "         0.8507, -1.1183,  0.7679, -0.8684,  0.3349, -0.7770, -0.5683,  0.6983,\n",
      "        -0.0468,  1.2706,  0.5207,  1.1712,  0.3267, -1.2003, -0.6599, -0.6894,\n",
      "         0.9346, -0.1392,  0.7838,  0.4964, -1.1279,  0.1976,  0.9630,  0.7856,\n",
      "         0.0829, -0.7212,  0.8322,  0.1812, -1.1876, -0.9784,  0.2409, -0.6868,\n",
      "        -0.7534,  0.5976, -0.5270, -0.8064, -0.1958,  0.5402,  0.3945, -0.8618],\n",
      "       device='cuda:0', grad_fn=<MeanBackward1>)\n"
     ]
    }
   ],
   "source": [
    "user_emb_list=[]\n",
    "user_emb_list.append(user_emb(torch.tensor(0,dtype=torch.long).cuda()))\n",
    "user_emb_list.append(user_emb(torch.tensor(1,dtype=torch.long).cuda()))\n",
    "user_emb_list.append(user_emb(torch.tensor(2,dtype=torch.long).cuda()))\n",
    "print(user_emb_list)\n",
    "print(torch.vstack(user_emb_list).mean(axis=0))"
   ]
  },
  {
   "attachments": {},
   "cell_type": "markdown",
   "metadata": {},
   "source": [
    "用户标签：高血脂人群、高血压人群、高血糖人群、减肥人群、儿童"
   ]
  },
  {
   "cell_type": "code",
   "execution_count": 15,
   "metadata": {},
   "outputs": [
    {
     "name": "stdout",
     "output_type": "stream",
     "text": [
      "tensor([[1., 0., 0.,  ..., 0., 0., 0.],\n",
      "        [0., 1., 0.,  ..., 0., 0., 0.],\n",
      "        [0., 0., 1.,  ..., 0., 0., 0.],\n",
      "        ...,\n",
      "        [0., 0., 1.,  ..., 0., 0., 0.],\n",
      "        [0., 0., 1.,  ..., 0., 0., 0.],\n",
      "        [0., 0., 0.,  ..., 0., 0., 0.]])\n",
      "3.6329809063317953e-06\n",
      "tensor([[ 9.9351e-01,  2.7703e-05,  1.7355e-06,  ..., -3.4637e-05,\n",
      "         -2.6097e-05,  4.2713e-05],\n",
      "        [-1.9602e-05,  9.9206e-01, -6.8982e-06,  ..., -5.6568e-05,\n",
      "          9.6765e-06,  3.7320e-05],\n",
      "        [ 8.7459e-06, -3.3227e-05,  9.9136e-01,  ...,  1.6570e-05,\n",
      "          1.7419e-05,  5.7002e-08],\n",
      "        ...,\n",
      "        [-3.3596e-05,  8.1294e-06,  9.9099e-01,  ...,  4.3797e-05,\n",
      "         -6.9584e-05, -1.1873e-05],\n",
      "        [-3.9509e-05, -1.8039e-05,  9.9112e-01,  ...,  3.2138e-05,\n",
      "          2.4724e-05, -3.0104e-05],\n",
      "        [-2.9106e-05,  1.7228e-04,  6.6824e-05,  ...,  2.3402e-05,\n",
      "          9.8202e-06,  1.0527e-04]], grad_fn=<MmBackward0>)\n"
     ]
    }
   ],
   "source": [
    "import torch\n",
    "import pandas as pd\n",
    "kouwei_list=['酸辣味', '酸甜味', '家常味', '酱香味', '香辣味', '咸鲜味', '甜味', '鱼香味', '麻辣味',  '咖喱味', '茄汁味', '豆瓣味', '黑椒味', '蒜香味', '葱香味', '果味', '椒麻味','五香味', '奶香味','其它口味']\n",
    "data=pd.read_csv('final.csv')\n",
    "user_kouwei_emb=torch.nn.Embedding(len(kouwei_list),128)\n",
    "recipe_kouwei_emb=torch.nn.Embedding(len(data),128)\n",
    "opt_recipe=torch.optim.Adam(params=recipe_kouwei_emb.parameters(),lr=0.02)\n",
    "opt_user=torch.optim.Adam(params=user_kouwei_emb.parameters(),lr=0.02) \n",
    "ground_true=torch.zeros(size=(len(data),len(kouwei_list)))\n",
    "for i in range(len(data)):\n",
    "    ind=kouwei_list.index(data.kouwei[i])\n",
    "    ground_true[i][ind]=1\n",
    "print(ground_true)\n",
    "for epoch in range(1000):\n",
    "    recipe=torch.tensor([i for i in range(len(data))],dtype=torch.long)\n",
    "    recipe=recipe_kouwei_emb(recipe)\n",
    "    recipe_normed=torch.nn.functional.normalize(recipe)\n",
    "    user=torch.tensor([i for i in range(len(kouwei_list))],dtype=torch.long)\n",
    "    user=user_kouwei_emb(user)\n",
    "    user_normed=torch.nn.functional.normalize(user)\n",
    "    res=torch.mm(recipe_normed,user_normed.T)\n",
    "    loss_func=torch.nn.MSELoss()\n",
    "    loss=loss_func(res,ground_true)\n",
    "    #print(loss.item())\n",
    "    loss.backward()\n",
    "    #print(res)\n",
    "    opt_recipe.step()\n",
    "    opt_recipe.zero_grad()\n",
    "    opt_user.step()\n",
    "    opt_user.zero_grad()\n",
    "print(loss.item())\n",
    "print(res)\n",
    "torch.save(recipe_kouwei_emb.state_dict(),'recipe_kouwei_emb.emb')\n",
    "torch.save(user_kouwei_emb.state_dict(),'user_kouwei_emb.emb')"
   ]
  }
 ],
 "metadata": {
  "kernelspec": {
   "display_name": "torch",
   "language": "python",
   "name": "python3"
  },
  "language_info": {
   "codemirror_mode": {
    "name": "ipython",
    "version": 3
   },
   "file_extension": ".py",
   "mimetype": "text/x-python",
   "name": "python",
   "nbconvert_exporter": "python",
   "pygments_lexer": "ipython3",
   "version": "3.7.13"
  },
  "orig_nbformat": 4
 },
 "nbformat": 4,
 "nbformat_minor": 2
}
